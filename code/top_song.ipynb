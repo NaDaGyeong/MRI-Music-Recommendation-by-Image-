{
 "cells": [
  {
   "cell_type": "code",
   "execution_count": 1,
   "id": "068dad3b",
   "metadata": {
    "ExecuteTime": {
     "end_time": "2022-07-08T06:31:29.149220Z",
     "start_time": "2022-07-08T06:31:28.439495Z"
    }
   },
   "outputs": [],
   "source": [
    "import pandas as pd\n",
    "import numpy as np\n",
    "import pickle\n"
   ]
  },
  {
   "cell_type": "code",
   "execution_count": 2,
   "id": "267c47bb",
   "metadata": {
    "ExecuteTime": {
     "end_time": "2022-07-08T06:31:46.844505Z",
     "start_time": "2022-07-08T06:31:41.581622Z"
    }
   },
   "outputs": [],
   "source": [
    "with open(\"total_data_reduce.pkl\", 'rb') as f:\n",
    "    total_data_reduce = pickle.load(f).reset_index(drop=True)\n"
   ]
  },
  {
   "cell_type": "code",
   "execution_count": 3,
   "id": "6bed6dfc",
   "metadata": {
    "ExecuteTime": {
     "end_time": "2022-07-08T06:31:57.698103Z",
     "start_time": "2022-07-08T06:31:48.155672Z"
    }
   },
   "outputs": [],
   "source": [
    "songmeta = pd.read_json('song_meta.json', typ = 'frame')"
   ]
  },
  {
   "cell_type": "code",
   "execution_count": 4,
   "id": "71644451",
   "metadata": {
    "ExecuteTime": {
     "end_time": "2022-07-08T06:32:07.266869Z",
     "start_time": "2022-07-08T06:32:07.249326Z"
    }
   },
   "outputs": [],
   "source": [
    "top_10 = np.array([98910, 36299, 25303, 53989, 31815, 73280,  6090, 32336, 42180,64764])"
   ]
  },
  {
   "cell_type": "code",
   "execution_count": 5,
   "id": "c893be94",
   "metadata": {
    "ExecuteTime": {
     "end_time": "2022-07-08T06:32:14.903375Z",
     "start_time": "2022-07-08T06:32:14.595406Z"
    }
   },
   "outputs": [
    {
     "data": {
      "text/html": [
       "<div>\n",
       "<style scoped>\n",
       "    .dataframe tbody tr th:only-of-type {\n",
       "        vertical-align: middle;\n",
       "    }\n",
       "\n",
       "    .dataframe tbody tr th {\n",
       "        vertical-align: top;\n",
       "    }\n",
       "\n",
       "    .dataframe thead th {\n",
       "        text-align: right;\n",
       "    }\n",
       "</style>\n",
       "<table border=\"1\" class=\"dataframe\">\n",
       "  <thead>\n",
       "    <tr style=\"text-align: right;\">\n",
       "      <th></th>\n",
       "      <th>song_gn_dtl_gnr_basket</th>\n",
       "      <th>issue_date</th>\n",
       "      <th>album_name</th>\n",
       "      <th>album_id</th>\n",
       "      <th>artist_id_basket</th>\n",
       "      <th>song_name</th>\n",
       "      <th>song_gn_gnr_basket</th>\n",
       "      <th>artist_name_basket</th>\n",
       "      <th>id</th>\n",
       "    </tr>\n",
       "  </thead>\n",
       "  <tbody>\n",
       "    <tr>\n",
       "      <th>115635</th>\n",
       "      <td>[GN2502, GN0205, GN2501, GN2506, GN0201]</td>\n",
       "      <td>20141211</td>\n",
       "      <td>The 3rd Concert Album `SHINee WORLD III in SEOUL`</td>\n",
       "      <td>2294737</td>\n",
       "      <td>[247639]</td>\n",
       "      <td>Lucifer</td>\n",
       "      <td>[GN2500, GN0200]</td>\n",
       "      <td>[SHINee (샤이니)]</td>\n",
       "      <td>115635</td>\n",
       "    </tr>\n",
       "    <tr>\n",
       "      <th>42510</th>\n",
       "      <td>[GN1601, GN1606]</td>\n",
       "      <td>20150407</td>\n",
       "      <td>Fiorenzo Marchegiano - Grand Piano Classical I...</td>\n",
       "      <td>2312618</td>\n",
       "      <td>[790108]</td>\n",
       "      <td>Mussorgsky : Pictures At An Exhibition -  Prom...</td>\n",
       "      <td>[GN1600]</td>\n",
       "      <td>[Fiorenzo Marchegiano]</td>\n",
       "      <td>42510</td>\n",
       "    </tr>\n",
       "    <tr>\n",
       "      <th>29630</th>\n",
       "      <td>[GN1006, GN1013, GN1001]</td>\n",
       "      <td>20061015</td>\n",
       "      <td>It`s All Coming Back To Me Now (4 Track Single)</td>\n",
       "      <td>328998</td>\n",
       "      <td>[28409]</td>\n",
       "      <td>It's All Coming Back To Me Now</td>\n",
       "      <td>[GN1000]</td>\n",
       "      <td>[Meat Loaf]</td>\n",
       "      <td>29630</td>\n",
       "    </tr>\n",
       "    <tr>\n",
       "      <th>63252</th>\n",
       "      <td>[GN1701, GN1704]</td>\n",
       "      <td>20020806</td>\n",
       "      <td>Bar Talk</td>\n",
       "      <td>48835</td>\n",
       "      <td>[163080]</td>\n",
       "      <td>...Like The Rose</td>\n",
       "      <td>[GN1700]</td>\n",
       "      <td>[Jeff `Tain` Watts]</td>\n",
       "      <td>63252</td>\n",
       "    </tr>\n",
       "    <tr>\n",
       "      <th>37249</th>\n",
       "      <td>[GN0105, GN0101]</td>\n",
       "      <td>20160623</td>\n",
       "      <td>첫눈에 느낌이 왔어</td>\n",
       "      <td>2693203</td>\n",
       "      <td>[424945]</td>\n",
       "      <td>첫눈에 느낌이 왔어 (Feat. 다이안)</td>\n",
       "      <td>[GN0100]</td>\n",
       "      <td>[에스프레소]</td>\n",
       "      <td>37249</td>\n",
       "    </tr>\n",
       "    <tr>\n",
       "      <th>85683</th>\n",
       "      <td>[GN1301, GN1308, GN1302]</td>\n",
       "      <td>20191023</td>\n",
       "      <td>Sweet Insomnia</td>\n",
       "      <td>10342650</td>\n",
       "      <td>[868887]</td>\n",
       "      <td>Sweet Insomnia (feat. 6LACK)</td>\n",
       "      <td>[GN1300]</td>\n",
       "      <td>[Gallant]</td>\n",
       "      <td>85683</td>\n",
       "    </tr>\n",
       "    <tr>\n",
       "      <th>7153</th>\n",
       "      <td>[GN0105, GN0101]</td>\n",
       "      <td>20180824</td>\n",
       "      <td>우두커니</td>\n",
       "      <td>10197110</td>\n",
       "      <td>[2241428]</td>\n",
       "      <td>우두커니 (Feat. 프로젝트632, 웅열)</td>\n",
       "      <td>[GN0100]</td>\n",
       "      <td>[러브 에피소드]</td>\n",
       "      <td>7153</td>\n",
       "    </tr>\n",
       "    <tr>\n",
       "      <th>37859</th>\n",
       "      <td>[GN0601, GN0605]</td>\n",
       "      <td>20060718</td>\n",
       "      <td>초우 (初雨)</td>\n",
       "      <td>322400</td>\n",
       "      <td>[108965]</td>\n",
       "      <td>Scorpio (Bonus Track)</td>\n",
       "      <td>[GN0600]</td>\n",
       "      <td>[TraxX (트랙스)]</td>\n",
       "      <td>37859</td>\n",
       "    </tr>\n",
       "    <tr>\n",
       "      <th>49420</th>\n",
       "      <td>[GN1806, GN1801]</td>\n",
       "      <td>20160901</td>\n",
       "      <td>아이스티</td>\n",
       "      <td>2708111</td>\n",
       "      <td>[991754]</td>\n",
       "      <td>아이스티</td>\n",
       "      <td>[GN1800]</td>\n",
       "      <td>[Iced Tea]</td>\n",
       "      <td>49420</td>\n",
       "    </tr>\n",
       "    <tr>\n",
       "      <th>75749</th>\n",
       "      <td>[GN1912, GN1903, GN1901]</td>\n",
       "      <td>20180223</td>\n",
       "      <td>INTELLIGENCE</td>\n",
       "      <td>10141823</td>\n",
       "      <td>[968100]</td>\n",
       "      <td>Call out</td>\n",
       "      <td>[GN1900]</td>\n",
       "      <td>[Yoru No Honki Dance]</td>\n",
       "      <td>75749</td>\n",
       "    </tr>\n",
       "  </tbody>\n",
       "</table>\n",
       "</div>"
      ],
      "text/plain": [
       "                          song_gn_dtl_gnr_basket  issue_date  \\\n",
       "115635  [GN2502, GN0205, GN2501, GN2506, GN0201]    20141211   \n",
       "42510                           [GN1601, GN1606]    20150407   \n",
       "29630                   [GN1006, GN1013, GN1001]    20061015   \n",
       "63252                           [GN1701, GN1704]    20020806   \n",
       "37249                           [GN0105, GN0101]    20160623   \n",
       "85683                   [GN1301, GN1308, GN1302]    20191023   \n",
       "7153                            [GN0105, GN0101]    20180824   \n",
       "37859                           [GN0601, GN0605]    20060718   \n",
       "49420                           [GN1806, GN1801]    20160901   \n",
       "75749                   [GN1912, GN1903, GN1901]    20180223   \n",
       "\n",
       "                                               album_name  album_id  \\\n",
       "115635  The 3rd Concert Album `SHINee WORLD III in SEOUL`   2294737   \n",
       "42510   Fiorenzo Marchegiano - Grand Piano Classical I...   2312618   \n",
       "29630     It`s All Coming Back To Me Now (4 Track Single)    328998   \n",
       "63252                                            Bar Talk     48835   \n",
       "37249                                          첫눈에 느낌이 왔어   2693203   \n",
       "85683                                      Sweet Insomnia  10342650   \n",
       "7153                                                 우두커니  10197110   \n",
       "37859                                             초우 (初雨)    322400   \n",
       "49420                                                아이스티   2708111   \n",
       "75749                                        INTELLIGENCE  10141823   \n",
       "\n",
       "       artist_id_basket                                          song_name  \\\n",
       "115635         [247639]                                            Lucifer   \n",
       "42510          [790108]  Mussorgsky : Pictures At An Exhibition -  Prom...   \n",
       "29630           [28409]                     It's All Coming Back To Me Now   \n",
       "63252          [163080]                                   ...Like The Rose   \n",
       "37249          [424945]                             첫눈에 느낌이 왔어 (Feat. 다이안)   \n",
       "85683          [868887]                       Sweet Insomnia (feat. 6LACK)   \n",
       "7153          [2241428]                           우두커니 (Feat. 프로젝트632, 웅열)   \n",
       "37859          [108965]                              Scorpio (Bonus Track)   \n",
       "49420          [991754]                                               아이스티   \n",
       "75749          [968100]                                           Call out   \n",
       "\n",
       "       song_gn_gnr_basket      artist_name_basket      id  \n",
       "115635   [GN2500, GN0200]          [SHINee (샤이니)]  115635  \n",
       "42510            [GN1600]  [Fiorenzo Marchegiano]   42510  \n",
       "29630            [GN1000]             [Meat Loaf]   29630  \n",
       "63252            [GN1700]     [Jeff `Tain` Watts]   63252  \n",
       "37249            [GN0100]                 [에스프레소]   37249  \n",
       "85683            [GN1300]               [Gallant]   85683  \n",
       "7153             [GN0100]               [러브 에피소드]    7153  \n",
       "37859            [GN0600]           [TraxX (트랙스)]   37859  \n",
       "49420            [GN1800]              [Iced Tea]   49420  \n",
       "75749            [GN1900]   [Yoru No Honki Dance]   75749  "
      ]
     },
     "execution_count": 5,
     "metadata": {},
     "output_type": "execute_result"
    }
   ],
   "source": [
    "songmeta.iloc[(np.asarray(total_data_reduce['id']).tolist()),:].iloc[top_10,:].iloc[:10,:]"
   ]
  },
  {
   "cell_type": "code",
   "execution_count": null,
   "id": "1a41438d",
   "metadata": {},
   "outputs": [],
   "source": []
  }
 ],
 "metadata": {
  "kernelspec": {
   "display_name": "Python 3 (ipykernel)",
   "language": "python",
   "name": "python3"
  },
  "language_info": {
   "codemirror_mode": {
    "name": "ipython",
    "version": 3
   },
   "file_extension": ".py",
   "mimetype": "text/x-python",
   "name": "python",
   "nbconvert_exporter": "python",
   "pygments_lexer": "ipython3",
   "version": "3.8.11"
  },
  "toc": {
   "base_numbering": 1,
   "nav_menu": {},
   "number_sections": true,
   "sideBar": true,
   "skip_h1_title": false,
   "title_cell": "Table of Contents",
   "title_sidebar": "Contents",
   "toc_cell": false,
   "toc_position": {},
   "toc_section_display": true,
   "toc_window_display": false
  },
  "varInspector": {
   "cols": {
    "lenName": 16,
    "lenType": 16,
    "lenVar": 40
   },
   "kernels_config": {
    "python": {
     "delete_cmd_postfix": "",
     "delete_cmd_prefix": "del ",
     "library": "var_list.py",
     "varRefreshCmd": "print(var_dic_list())"
    },
    "r": {
     "delete_cmd_postfix": ") ",
     "delete_cmd_prefix": "rm(",
     "library": "var_list.r",
     "varRefreshCmd": "cat(var_dic_list()) "
    }
   },
   "types_to_exclude": [
    "module",
    "function",
    "builtin_function_or_method",
    "instance",
    "_Feature"
   ],
   "window_display": false
  }
 },
 "nbformat": 4,
 "nbformat_minor": 5
}
